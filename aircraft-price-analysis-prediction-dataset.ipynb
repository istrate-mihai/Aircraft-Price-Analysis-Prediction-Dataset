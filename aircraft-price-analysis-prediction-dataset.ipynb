{
 "cells": [
  {
   "cell_type": "markdown",
   "id": "c5a93da6",
   "metadata": {},
   "source": [
    "# Aircraft Price Analysis & Prediction Dataset"
   ]
  },
  {
   "cell_type": "markdown",
   "id": "d1aa487f",
   "metadata": {},
   "source": [
    "## Frame the Problem and look at the big picture"
   ]
  },
  {
   "cell_type": "markdown",
   "id": "0118aefc",
   "metadata": {},
   "source": [
    "### About Dataset\n",
    "\n",
    "A dataset for aircraft price prediction\n",
    "\n",
    "model_name: Name of the aircraft model.\n",
    "\n",
    "engine_type: Type of the engine.\n",
    "\n",
    "engine_power: Power of the engine. (hp or lbs)\n",
    "\n",
    "max_speed: Maximum speed of the aircraft. (Knots)\n",
    "\n",
    "cruise_speed: Cruise speed of the aircraft. (Knots)\n",
    "\n",
    "stall_speed: Minimum speed of the aircraft to prevent stalling. (Knots)\n",
    "\n",
    "fuel_tank: Fuel tank capacity of the aircraft. (gal)\n",
    "\n",
    "all_eng_roc: All Engine Rate of Climb. The maximum altitude of the aircraft at full power. (feet)\n",
    "\n",
    "out_eng_roc: Out Engine Rate of Climb. The maximum altitude of the aircraft at out power. (feet)\n",
    "\n",
    "takeoff_distance: The minimum distance required for an aircraft to take off. (feet)\n",
    "\n",
    "landing_distance: The minimum distance required for an aircraft to landing. (feet)\n",
    "\n",
    "empty_weight: Empty weight of the aircraft. (lbs)\n",
    "\n",
    "length: Length of the aircraft. (inch)\n",
    "\n",
    "wing_span: Wing span of the aircraft. (inch)\n",
    "\n",
    "range: Range of the aircraft. (nmi)\n",
    "\n",
    "price: Price of the aircraft."
   ]
  },
  {
   "cell_type": "markdown",
   "id": "baa999a2",
   "metadata": {},
   "source": [
    "## Import Libraries, Get Data and Split Data "
   ]
  },
  {
   "cell_type": "code",
   "execution_count": null,
   "id": "1e18e12c",
   "metadata": {},
   "outputs": [],
   "source": [
    "import numpy as np\n",
    "import pandas as pd\n",
    "import matplotlib.pyplot as plt\n",
    "import seaborn as sns\n",
    "\n",
    "from sklearn.pipeline import make_pipeline\n",
    "from sklearn.compose import make_column_transformer, make_column_selector\n",
    "from sklearn.preprocessing import StandardScaler, OneHotEncoder\n",
    "from sklearn.impute import SimpleImputer\n",
    "\n",
    "from sklearn.model_selection import train_test_split\n",
    "from sklearn.linear_model import LogisticRegression\n",
    "from sklearn.tree import DecisionTreeRegressor\n",
    "from sklearn.ensemble import RandomForestRegressor\n",
    "\n",
    "from sklearn.metrics import mean_squared_error\n",
    "import joblib"
   ]
  },
  {
   "cell_type": "code",
   "execution_count": null,
   "id": "3e991dac",
   "metadata": {},
   "outputs": [],
   "source": [
    "aircraft = pd.read_csv('aircraft_price.csv')"
   ]
  },
  {
   "cell_type": "code",
   "execution_count": null,
   "id": "7255eee3",
   "metadata": {},
   "outputs": [],
   "source": [
    "aircraft.head()"
   ]
  },
  {
   "cell_type": "markdown",
   "id": "efe6d724",
   "metadata": {},
   "source": [
    "## Explore the Data to Get Insights"
   ]
  },
  {
   "cell_type": "code",
   "execution_count": null,
   "id": "586d50b7",
   "metadata": {},
   "outputs": [],
   "source": [
    "aircraft.size"
   ]
  },
  {
   "cell_type": "code",
   "execution_count": null,
   "id": "e46c399c",
   "metadata": {},
   "outputs": [],
   "source": [
    "aircraft.shape"
   ]
  },
  {
   "cell_type": "code",
   "execution_count": null,
   "id": "a2527673",
   "metadata": {},
   "outputs": [],
   "source": [
    "aircraft.describe()"
   ]
  },
  {
   "cell_type": "code",
   "execution_count": null,
   "id": "e33fd2a9",
   "metadata": {},
   "outputs": [],
   "source": [
    "aircraft.info()"
   ]
  },
  {
   "cell_type": "code",
   "execution_count": null,
   "id": "9ad85b86",
   "metadata": {},
   "outputs": [],
   "source": [
    "aircraft['model_name'].value_counts()"
   ]
  },
  {
   "cell_type": "code",
   "execution_count": null,
   "id": "35eb6edc",
   "metadata": {},
   "outputs": [],
   "source": [
    "aircraft['engine_type'].value_counts()"
   ]
  },
  {
   "cell_type": "code",
   "execution_count": null,
   "id": "60e4957a",
   "metadata": {},
   "outputs": [],
   "source": [
    "X = aircraft.drop('price', axis = 1)\n",
    "y = aircraft['price']\n",
    "\n",
    "X_train_full, X_test, y_train_full, y_test = train_test_split(X, y, test_size = 0.2, random_state = 42)"
   ]
  },
  {
   "cell_type": "code",
   "execution_count": null,
   "id": "fc5ddab2",
   "metadata": {},
   "outputs": [],
   "source": [
    "explore_df          = X_train_full.copy()\n",
    "explore_df['price'] = y_train_full"
   ]
  },
  {
   "cell_type": "code",
   "execution_count": null,
   "id": "34214661",
   "metadata": {},
   "outputs": [],
   "source": [
    "## Visualize Numerical Features\n",
    "\n",
    "plt.rc('font', size = 14)\n",
    "plt.rc('axes', labelsize = 14, titlesize = 14)\n",
    "plt.rc('legend', fontsize = 14)\n",
    "plt.rc('xtick', labelsize = 14)\n",
    "plt.rc('ytick', labelsize = 14)\n",
    "\n",
    "explore_df.hist(bins = 50, figsize = (12, 12))\n",
    "plt.show()"
   ]
  },
  {
   "cell_type": "code",
   "execution_count": null,
   "id": "ed74b5a4",
   "metadata": {},
   "outputs": [],
   "source": [
    "## Visualize Categorical Feature\n",
    "\n",
    "plt.figure(figsize = (6, 4))\n",
    "sns.countplot(x = 'engine_type', data = explore_df, order = explore_df['engine_type'].value_counts().index)\n",
    "plt.title('Distribution of Engine Type')\n",
    "plt.show()"
   ]
  },
  {
   "cell_type": "code",
   "execution_count": null,
   "id": "c9bbbe57",
   "metadata": {},
   "outputs": [],
   "source": [
    "## Looking for Correlations\n",
    "\n",
    "plt.figure(figsize = (14, 8))\n",
    "corr_matrix = explore_df.corr(numeric_only = True)\n",
    "\n",
    "sns.heatmap(corr_matrix, cmap = 'YlGnBu', annot = True)\n",
    "\n",
    "plt.show()"
   ]
  },
  {
   "cell_type": "code",
   "execution_count": null,
   "id": "e7a7e539",
   "metadata": {},
   "outputs": [],
   "source": [
    "corr_matrix['price'].sort_values(ascending = False)"
   ]
  },
  {
   "cell_type": "code",
   "execution_count": null,
   "id": "9812b08f",
   "metadata": {},
   "outputs": [],
   "source": [
    "from pandas.plotting import scatter_matrix\n",
    "\n",
    "attributes = ['cruise_speed', 'max_speed', 'length', 'stall_speed', 'takeoff_distance']\n",
    "scatter_matrix(explore_df[attributes], figsize = (12, 8))\n",
    "plt.show()"
   ]
  },
  {
   "cell_type": "code",
   "execution_count": null,
   "id": "4c7402fe",
   "metadata": {},
   "outputs": [],
   "source": [
    "explore_df.plot(kind = 'scatter', x = 'cruise_speed', y = 'price', alpha = 0.5, grid = True)\n",
    "plt.show()"
   ]
  },
  {
   "cell_type": "code",
   "execution_count": null,
   "id": "e7c3336b",
   "metadata": {},
   "outputs": [],
   "source": [
    "explore_df.columns"
   ]
  },
  {
   "cell_type": "code",
   "execution_count": null,
   "id": "c3f6ab22",
   "metadata": {},
   "outputs": [],
   "source": [
    "## Compute Again Correlation Matrix\n",
    "corr_matrix = explore_df.corr(numeric_only = True)"
   ]
  },
  {
   "cell_type": "code",
   "execution_count": null,
   "id": "e5efd308",
   "metadata": {},
   "outputs": [],
   "source": [
    "corr_matrix['price'].sort_values(ascending = False)"
   ]
  },
  {
   "cell_type": "code",
   "execution_count": null,
   "id": "2c08026c",
   "metadata": {},
   "outputs": [],
   "source": [
    "from sklearn import set_config\n",
    "set_config(display = 'diagram')"
   ]
  },
  {
   "cell_type": "code",
   "execution_count": null,
   "id": "074bd326",
   "metadata": {},
   "outputs": [],
   "source": [
    "num_pipeline = make_pipeline(\n",
    "    SimpleImputer(strategy = 'median'),\n",
    "    StandardScaler()\n",
    ")"
   ]
  },
  {
   "cell_type": "code",
   "execution_count": null,
   "id": "633ea677",
   "metadata": {},
   "outputs": [],
   "source": [
    "num_pipeline"
   ]
  },
  {
   "cell_type": "code",
   "execution_count": null,
   "id": "04a92100",
   "metadata": {},
   "outputs": [],
   "source": [
    "cat_pipeline = make_pipeline(\n",
    "    SimpleImputer(strategy = 'most_frequent'),\n",
    "    OneHotEncoder(handle_unknown = 'ignore')\n",
    ")"
   ]
  },
  {
   "cell_type": "code",
   "execution_count": null,
   "id": "65c858e9",
   "metadata": {},
   "outputs": [],
   "source": [
    "cat_pipeline"
   ]
  },
  {
   "cell_type": "code",
   "execution_count": null,
   "id": "30d8adeb",
   "metadata": {},
   "outputs": [],
   "source": [
    "preprocessing = make_column_transformer(\n",
    "    (num_pipeline, make_column_selector(dtype_include = np.number)),\n",
    "    (cat_pipeline, make_column_selector(dtype_include = object)),\n",
    ")"
   ]
  },
  {
   "cell_type": "code",
   "execution_count": null,
   "id": "c4eda8d0",
   "metadata": {},
   "outputs": [],
   "source": []
  },
  {
   "cell_type": "code",
   "execution_count": null,
   "id": "993ed2f5",
   "metadata": {},
   "outputs": [],
   "source": [
    "aircraft        = X_train_full.drop('price', axis = 1)\n",
    "aircraft_prices = y_train_full.copy()"
   ]
  },
  {
   "cell_type": "code",
   "execution_count": null,
   "id": "61b73f27",
   "metadata": {},
   "outputs": [],
   "source": []
  },
  {
   "cell_type": "code",
   "execution_count": null,
   "id": "f6544e75",
   "metadata": {},
   "outputs": [],
   "source": []
  },
  {
   "cell_type": "code",
   "execution_count": null,
   "id": "0bf35130",
   "metadata": {},
   "outputs": [],
   "source": []
  },
  {
   "cell_type": "code",
   "execution_count": null,
   "id": "153bf67f",
   "metadata": {},
   "outputs": [],
   "source": []
  },
  {
   "cell_type": "code",
   "execution_count": null,
   "id": "82a26fce",
   "metadata": {},
   "outputs": [],
   "source": []
  }
 ],
 "metadata": {
  "kernelspec": {
   "display_name": "Python 3",
   "language": "python",
   "name": "python3"
  },
  "language_info": {
   "codemirror_mode": {
    "name": "ipython",
    "version": 3
   },
   "file_extension": ".py",
   "mimetype": "text/x-python",
   "name": "python",
   "nbconvert_exporter": "python",
   "pygments_lexer": "ipython3",
   "version": "3.12.9"
  }
 },
 "nbformat": 4,
 "nbformat_minor": 5
}
